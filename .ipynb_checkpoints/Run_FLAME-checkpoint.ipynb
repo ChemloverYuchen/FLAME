{
 "cells": [
  {
   "cell_type": "markdown",
   "id": "929d191d",
   "metadata": {},
   "source": [
    "# Instruction\n",
    "\n",
    "The input data should be a table such as:\n",
    "smiles     | solvent | property\n",
    "-------- | ----- | -----\n",
    "SMILES of Molecule  | SMILES of solvent | property value\n",
    "\n",
    "Some solvents are not supported by GBRT and the input of schnet is a coordinate db instead of SMILES.\n",
    "\n",
    "\n",
    "### System Check\n",
    "\n",
    "### DataBase Searching\n",
    "\n",
    "### Model Training\n",
    "\n",
    "### Prediction and Evaluation"
   ]
  },
  {
   "cell_type": "markdown",
   "id": "0a352164",
   "metadata": {
    "ExecuteTime": {
     "end_time": "2024-07-05T06:59:31.897064Z",
     "start_time": "2024-07-05T06:59:30.338849Z"
    },
    "heading_collapsed": true
   },
   "source": [
    "# System Check"
   ]
  },
  {
   "cell_type": "code",
   "execution_count": 1,
   "id": "d4f43598",
   "metadata": {
    "ExecuteTime": {
     "end_time": "2024-12-03T06:58:54.494964Z",
     "start_time": "2024-12-03T06:58:50.256648Z"
    },
    "hidden": true
   },
   "outputs": [
    {
     "name": "stdout",
     "output_type": "stream",
     "text": [
      "Troch version: 2.2.2+cu121, GPU status: True\n",
      "FLAME verion: 2024.10.a1\n",
      "Check Done!\n"
     ]
    }
   ],
   "source": [
    "import torch\n",
    "torch_version = torch.__version__\n",
    "gpu = torch.cuda.is_available()\n",
    "print(f'Troch version: {torch_version}, GPU status: {gpu}')\n",
    "\n",
    "import FLAME\n",
    "print(f'FLAME verion: {FLAME.__version__}')\n",
    "\n",
    "print('Check Done!')"
   ]
  },
  {
   "cell_type": "markdown",
   "id": "fcea9c08",
   "metadata": {
    "heading_collapsed": true
   },
   "source": [
    "# Database Searching"
   ]
  },
  {
   "cell_type": "code",
   "execution_count": 2,
   "id": "18f74641",
   "metadata": {
    "ExecuteTime": {
     "end_time": "2024-12-03T06:59:20.991691Z",
     "start_time": "2024-12-03T06:59:18.069338Z"
    },
    "hidden": true
   },
   "outputs": [
    {
     "name": "stdout",
     "output_type": "stream",
     "text": [
      "Loading DB\n",
      "Start Searching\n"
     ]
    },
    {
     "name": "stderr",
     "output_type": "stream",
     "text": [
      "100%|██████████| 55169/55169 [00:00<00:00, 119312.28it/s]\n"
     ]
    },
    {
     "name": "stdout",
     "output_type": "stream",
     "text": [
      "Searching Done!\n",
      "Find 14 molecules similarity greater than 0.5.\n"
     ]
    },
    {
     "data": {
      "text/html": [
       "<div>\n",
       "<style scoped>\n",
       "    .dataframe tbody tr th:only-of-type {\n",
       "        vertical-align: middle;\n",
       "    }\n",
       "\n",
       "    .dataframe tbody tr th {\n",
       "        vertical-align: top;\n",
       "    }\n",
       "\n",
       "    .dataframe thead th {\n",
       "        text-align: right;\n",
       "    }\n",
       "</style>\n",
       "<table border=\"1\" class=\"dataframe\">\n",
       "  <thead>\n",
       "    <tr style=\"text-align: right;\">\n",
       "      <th></th>\n",
       "      <th>absorption/nm</th>\n",
       "      <th>emission/nm</th>\n",
       "      <th>plqy</th>\n",
       "      <th>e/m-1cm-1</th>\n",
       "      <th>smiles</th>\n",
       "      <th>solvent</th>\n",
       "      <th>reference(doi)</th>\n",
       "      <th>source</th>\n",
       "      <th>tag_name</th>\n",
       "      <th>sim</th>\n",
       "    </tr>\n",
       "  </thead>\n",
       "  <tbody>\n",
       "    <tr>\n",
       "      <th>0</th>\n",
       "      <td>327.0</td>\n",
       "      <td>450.0</td>\n",
       "      <td>0.76</td>\n",
       "      <td>NaN</td>\n",
       "      <td>COc1cc(OC)c2ccc(=O)oc2c1</td>\n",
       "      <td>O</td>\n",
       "      <td>10.1016/0047-2670(87)85034-7</td>\n",
       "      <td>Deep4Chem</td>\n",
       "      <td>Coumarin</td>\n",
       "      <td>1.000000</td>\n",
       "    </tr>\n",
       "    <tr>\n",
       "      <th>1</th>\n",
       "      <td>324.0</td>\n",
       "      <td>425.0</td>\n",
       "      <td>0.65</td>\n",
       "      <td>NaN</td>\n",
       "      <td>COc1cc(OC)c2ccc(=O)oc2c1</td>\n",
       "      <td>CCO</td>\n",
       "      <td>10.1016/0047-2670(87)85034-7</td>\n",
       "      <td>Deep4Chem</td>\n",
       "      <td>Coumarin</td>\n",
       "      <td>1.000000</td>\n",
       "    </tr>\n",
       "    <tr>\n",
       "      <th>2</th>\n",
       "      <td>324.0</td>\n",
       "      <td>432.0</td>\n",
       "      <td>0.71</td>\n",
       "      <td>NaN</td>\n",
       "      <td>COc1cc(OC)c2ccc(=O)oc2c1</td>\n",
       "      <td>CO</td>\n",
       "      <td>10.1016/0047-2670(87)85034-7</td>\n",
       "      <td>Deep4Chem</td>\n",
       "      <td>Coumarin</td>\n",
       "      <td>1.000000</td>\n",
       "    </tr>\n",
       "    <tr>\n",
       "      <th>3</th>\n",
       "      <td>318.0</td>\n",
       "      <td>390.0</td>\n",
       "      <td>0.07</td>\n",
       "      <td>NaN</td>\n",
       "      <td>COc1cc(OC)c2ccc(=O)oc2c1</td>\n",
       "      <td>CCOCC</td>\n",
       "      <td>10.1016/0047-2670(87)85034-7</td>\n",
       "      <td>Deep4Chem</td>\n",
       "      <td>Coumarin</td>\n",
       "      <td>1.000000</td>\n",
       "    </tr>\n",
       "    <tr>\n",
       "      <th>4</th>\n",
       "      <td>324.0</td>\n",
       "      <td>417.0</td>\n",
       "      <td>0.56</td>\n",
       "      <td>NaN</td>\n",
       "      <td>COc1cc(OC)c2ccc(=O)oc2c1</td>\n",
       "      <td>CC(C)O</td>\n",
       "      <td>10.1016/0047-2670(87)85034-7</td>\n",
       "      <td>Deep4Chem</td>\n",
       "      <td>Coumarin</td>\n",
       "      <td>1.000000</td>\n",
       "    </tr>\n",
       "    <tr>\n",
       "      <th>5</th>\n",
       "      <td>372.0</td>\n",
       "      <td>446.0</td>\n",
       "      <td>NaN</td>\n",
       "      <td>39700.000000</td>\n",
       "      <td>COc1cc(OC)c2cc(-c3ccc(-c4cc5c(OC)cc(OC)cc5oc4=...</td>\n",
       "      <td>ClC(Cl)Cl</td>\n",
       "      <td>10.1016/S0143-7208(03)00028-7</td>\n",
       "      <td>Deep4Chem</td>\n",
       "      <td>Coumarin</td>\n",
       "      <td>0.589744</td>\n",
       "    </tr>\n",
       "    <tr>\n",
       "      <th>6</th>\n",
       "      <td>348.0</td>\n",
       "      <td>NaN</td>\n",
       "      <td>NaN</td>\n",
       "      <td>NaN</td>\n",
       "      <td>COc1cc(OC)c2cc(-c3ccccc3)c(=O)oc2c1</td>\n",
       "      <td>ClC(Cl)Cl</td>\n",
       "      <td>10.1038/s41597-019-0306-0</td>\n",
       "      <td>ChemDataExtractor</td>\n",
       "      <td>Coumarin</td>\n",
       "      <td>0.547619</td>\n",
       "    </tr>\n",
       "    <tr>\n",
       "      <th>7</th>\n",
       "      <td>352.0</td>\n",
       "      <td>438.0</td>\n",
       "      <td>NaN</td>\n",
       "      <td>44000.000000</td>\n",
       "      <td>COc1cc(OC)c2cc(-c3cccc(-c4cc5c(OC)cc(OC)cc5oc4...</td>\n",
       "      <td>ClC(Cl)Cl</td>\n",
       "      <td>10.1016/S0143-7208(03)00028-7</td>\n",
       "      <td>Deep4Chem</td>\n",
       "      <td>Coumarin</td>\n",
       "      <td>0.547619</td>\n",
       "    </tr>\n",
       "    <tr>\n",
       "      <th>8</th>\n",
       "      <td>NaN</td>\n",
       "      <td>NaN</td>\n",
       "      <td>NaN</td>\n",
       "      <td>43000.000000</td>\n",
       "      <td>COc1ccc2c(=O)c3ccc(OC)cc3oc2c1</td>\n",
       "      <td>CCO</td>\n",
       "      <td>10.1016/j.saa.2022.121442</td>\n",
       "      <td>DYES</td>\n",
       "      <td>Acridines</td>\n",
       "      <td>0.542857</td>\n",
       "    </tr>\n",
       "    <tr>\n",
       "      <th>9</th>\n",
       "      <td>NaN</td>\n",
       "      <td>NaN</td>\n",
       "      <td>NaN</td>\n",
       "      <td>20417.000000</td>\n",
       "      <td>COc1ccc2c(c1)oc(=O)c1cc(OC)c(OC)cc12</td>\n",
       "      <td>ClC(Cl)Cl</td>\n",
       "      <td>10.1016/j.saa.2022.121442</td>\n",
       "      <td>DYES</td>\n",
       "      <td>Coumarin</td>\n",
       "      <td>0.538462</td>\n",
       "    </tr>\n",
       "    <tr>\n",
       "      <th>10</th>\n",
       "      <td>NaN</td>\n",
       "      <td>NaN</td>\n",
       "      <td>NaN</td>\n",
       "      <td>7943.284092</td>\n",
       "      <td>COc1ccc2c(c1)c(OC)cc1ccc(=O)oc12</td>\n",
       "      <td>CO</td>\n",
       "      <td>10.1016/j.saa.2022.121442</td>\n",
       "      <td>DYES</td>\n",
       "      <td>Coumarin</td>\n",
       "      <td>0.536585</td>\n",
       "    </tr>\n",
       "    <tr>\n",
       "      <th>11</th>\n",
       "      <td>NaN</td>\n",
       "      <td>NaN</td>\n",
       "      <td>NaN</td>\n",
       "      <td>35481.101560</td>\n",
       "      <td>COc1cc(OC)c2c(=O)c3c(OC)cc(OC)cc3oc2c1</td>\n",
       "      <td>CCO</td>\n",
       "      <td>10.1016/j.saa.2022.121442</td>\n",
       "      <td>DYES</td>\n",
       "      <td>Acridines</td>\n",
       "      <td>0.527778</td>\n",
       "    </tr>\n",
       "    <tr>\n",
       "      <th>12</th>\n",
       "      <td>344.0</td>\n",
       "      <td>NaN</td>\n",
       "      <td>NaN</td>\n",
       "      <td>NaN</td>\n",
       "      <td>COc1ccc2oc(=O)ccc2c1</td>\n",
       "      <td>CC#N</td>\n",
       "      <td>10.1021/acs.jcim.1c01449</td>\n",
       "      <td>SMFluo</td>\n",
       "      <td>Coumarin</td>\n",
       "      <td>0.513514</td>\n",
       "    </tr>\n",
       "    <tr>\n",
       "      <th>13</th>\n",
       "      <td>390.0</td>\n",
       "      <td>538.0</td>\n",
       "      <td>0.10</td>\n",
       "      <td>15740.000000</td>\n",
       "      <td>COc1cc(OC)c2c(c1)c1cc3oc(=O)cc(C)c3cc1c1cc(OC)...</td>\n",
       "      <td>ClC(Cl)Cl</td>\n",
       "      <td>10.1021/acs.joc.9b01223</td>\n",
       "      <td>Deep4Chem</td>\n",
       "      <td>Coumarin</td>\n",
       "      <td>0.511628</td>\n",
       "    </tr>\n",
       "  </tbody>\n",
       "</table>\n",
       "</div>"
      ],
      "text/plain": [
       "    absorption/nm  emission/nm  plqy     e/m-1cm-1  \\\n",
       "0           327.0        450.0  0.76           NaN   \n",
       "1           324.0        425.0  0.65           NaN   \n",
       "2           324.0        432.0  0.71           NaN   \n",
       "3           318.0        390.0  0.07           NaN   \n",
       "4           324.0        417.0  0.56           NaN   \n",
       "5           372.0        446.0   NaN  39700.000000   \n",
       "6           348.0          NaN   NaN           NaN   \n",
       "7           352.0        438.0   NaN  44000.000000   \n",
       "8             NaN          NaN   NaN  43000.000000   \n",
       "9             NaN          NaN   NaN  20417.000000   \n",
       "10            NaN          NaN   NaN   7943.284092   \n",
       "11            NaN          NaN   NaN  35481.101560   \n",
       "12          344.0          NaN   NaN           NaN   \n",
       "13          390.0        538.0  0.10  15740.000000   \n",
       "\n",
       "                                               smiles    solvent  \\\n",
       "0                            COc1cc(OC)c2ccc(=O)oc2c1          O   \n",
       "1                            COc1cc(OC)c2ccc(=O)oc2c1        CCO   \n",
       "2                            COc1cc(OC)c2ccc(=O)oc2c1         CO   \n",
       "3                            COc1cc(OC)c2ccc(=O)oc2c1      CCOCC   \n",
       "4                            COc1cc(OC)c2ccc(=O)oc2c1     CC(C)O   \n",
       "5   COc1cc(OC)c2cc(-c3ccc(-c4cc5c(OC)cc(OC)cc5oc4=...  ClC(Cl)Cl   \n",
       "6                 COc1cc(OC)c2cc(-c3ccccc3)c(=O)oc2c1  ClC(Cl)Cl   \n",
       "7   COc1cc(OC)c2cc(-c3cccc(-c4cc5c(OC)cc(OC)cc5oc4...  ClC(Cl)Cl   \n",
       "8                      COc1ccc2c(=O)c3ccc(OC)cc3oc2c1        CCO   \n",
       "9                COc1ccc2c(c1)oc(=O)c1cc(OC)c(OC)cc12  ClC(Cl)Cl   \n",
       "10                   COc1ccc2c(c1)c(OC)cc1ccc(=O)oc12         CO   \n",
       "11             COc1cc(OC)c2c(=O)c3c(OC)cc(OC)cc3oc2c1        CCO   \n",
       "12                               COc1ccc2oc(=O)ccc2c1       CC#N   \n",
       "13  COc1cc(OC)c2c(c1)c1cc3oc(=O)cc(C)c3cc1c1cc(OC)...  ClC(Cl)Cl   \n",
       "\n",
       "                   reference(doi)             source   tag_name       sim  \n",
       "0    10.1016/0047-2670(87)85034-7          Deep4Chem   Coumarin  1.000000  \n",
       "1    10.1016/0047-2670(87)85034-7          Deep4Chem   Coumarin  1.000000  \n",
       "2    10.1016/0047-2670(87)85034-7          Deep4Chem   Coumarin  1.000000  \n",
       "3    10.1016/0047-2670(87)85034-7          Deep4Chem   Coumarin  1.000000  \n",
       "4    10.1016/0047-2670(87)85034-7          Deep4Chem   Coumarin  1.000000  \n",
       "5   10.1016/S0143-7208(03)00028-7          Deep4Chem   Coumarin  0.589744  \n",
       "6       10.1038/s41597-019-0306-0  ChemDataExtractor   Coumarin  0.547619  \n",
       "7   10.1016/S0143-7208(03)00028-7          Deep4Chem   Coumarin  0.547619  \n",
       "8       10.1016/j.saa.2022.121442               DYES  Acridines  0.542857  \n",
       "9       10.1016/j.saa.2022.121442               DYES   Coumarin  0.538462  \n",
       "10      10.1016/j.saa.2022.121442               DYES   Coumarin  0.536585  \n",
       "11      10.1016/j.saa.2022.121442               DYES  Acridines  0.527778  \n",
       "12       10.1021/acs.jcim.1c01449             SMFluo   Coumarin  0.513514  \n",
       "13        10.1021/acs.joc.9b01223          Deep4Chem   Coumarin  0.511628  "
      ]
     },
     "execution_count": 2,
     "metadata": {},
     "output_type": "execute_result"
    }
   ],
   "source": [
    "from FLAME import run_search\n",
    "\n",
    "SMILES = 'COc1cc(OC)c2ccc(=O)oc2c1'\n",
    "similarity_limit = 0.5\n",
    "fingerprinter_type = 'morgan'\n",
    "\n",
    "result_df = run_search(SMILES, similarity_limit, fingerprinter_type)\n",
    "result_df"
   ]
  },
  {
   "cell_type": "markdown",
   "id": "65adb5c8",
   "metadata": {
    "heading_collapsed": true
   },
   "source": [
    "# Model Training"
   ]
  },
  {
   "cell_type": "code",
   "execution_count": null,
   "id": "a7cf8a65",
   "metadata": {
    "ExecuteTime": {
     "end_time": "2024-10-11T04:10:38.767261Z",
     "start_time": "2024-10-11T04:10:26.358260Z"
    },
    "hidden": true,
    "scrolled": true
   },
   "outputs": [],
   "source": [
    "# make schnet data\n",
    "import pandas as pd\n",
    "from FLAME.utils import get_schnet_data\n",
    "\n",
    "data_path = 'data/FluoDB/abs_test.csv'\n",
    "df = pd.read_csv(data_path)\n",
    "df = df[df['smiles'].str.len() < 40]\n",
    "df = df[df['smiles'].str.find('+') == -1]\n",
    "df = df[df['smiles'].str.find('-') == -1]\n",
    "df = df.drop_duplicates(subset=['smiles'])\n",
    "\n",
    "get_schnet_data(df['smiles'].values, np.zeros(len(smiles)), df.index.values, save_path=data_path+'.db', conf_num=1)"
   ]
  },
  {
   "cell_type": "code",
   "execution_count": null,
   "id": "ed139eb2",
   "metadata": {
    "ExecuteTime": {
     "end_time": "2024-10-11T04:11:46.060444Z",
     "start_time": "2024-10-11T04:11:40.348915Z"
    },
    "hidden": true,
    "scrolled": true
   },
   "outputs": [],
   "source": [
    "import os\n",
    "from FLAME import flsf_train as training\n",
    "# from FLAME import uvvisml_train as training\n",
    "# from FLAME import abtmpnn_train as training\n",
    "# from FLAME import fcnn_train as training\n",
    "# from FLAME import gbrt_train as training\n",
    "# from FLAME import schnet_train as training\n",
    "\n",
    "epoch = 1\n",
    "train_data = 'data/FluoDB/abs_train.csv'\n",
    "valid_data = 'data/FluoDB/abs_valid.csv'\n",
    "test_data = 'data/FluoDB/abs_test.csv.db'\n",
    "model_save_path = 'model/test'\n",
    "\n",
    "if os.path.exists(model_save_path):\n",
    "    print(model_save_path , ' exists!')\n",
    "\n",
    "training(model_save_path, train_data, valid_data, test_data, epoch)"
   ]
  },
  {
   "cell_type": "markdown",
   "id": "42174ace",
   "metadata": {
    "heading_collapsed": true
   },
   "source": [
    "# Prediction"
   ]
  },
  {
   "cell_type": "code",
   "execution_count": null,
   "id": "c8d51267",
   "metadata": {
    "ExecuteTime": {
     "end_time": "2024-11-22T13:09:38.377161Z",
     "start_time": "2024-11-22T13:09:31.215118Z"
    },
    "hidden": true,
    "scrolled": true
   },
   "outputs": [],
   "source": [
    "# Predict single\n",
    "import pandas as pd\n",
    "import numpy as np\n",
    "from FLAME import flsf_predict as predict\n",
    "# from FLAME import uvvisml_predict as predict\n",
    "# from FLAME import abtmpnn_predict as predict\n",
    "# from FLAME import fcnn_predict as predict\n",
    "# from FLAME import gbrt_predict as predict\n",
    "# from FLAME import schnet_predict as predict\n",
    "\n",
    "solvent = ['O', 'CS(C)=O','C(Cl)Cl', 'CCO']\n",
    "smiles = ['O=C1OC2=CC=C(C=C2C3=C1N=CO3)N','O=C1OC2=CC(N)=CC=C2C3=C1N=CO3']\n",
    "\n",
    "df = pd.DataFrame({\n",
    "    'smiles': sorted((smiles*len(solvent))),\n",
    "    'solvent': solvent*len(smiles)\n",
    "})\n",
    "target = 'abs'\n",
    "model_path = f'../model/flsf/FluoDB_{target}'\n",
    "output_file = 'test.csv'\n",
    "\n",
    "df[f'{target}_pred'] = predict(model_path, output_file, smiles=df[['smiles','solvent']].values.tolist())\n",
    "if target == 'e':\n",
    "    df[f'{target}_pred'] = np.log10(df[f'{target}_pred'])"
   ]
  },
  {
   "cell_type": "code",
   "execution_count": null,
   "id": "fec59f32",
   "metadata": {
    "ExecuteTime": {
     "end_time": "2024-10-10T14:23:27.308742Z",
     "start_time": "2024-10-10T14:23:07.573071Z"
    },
    "hidden": true,
    "scrolled": true
   },
   "outputs": [],
   "source": [
    "# Predict File\n",
    "import pandas as pd\n",
    "from FLAME import flsf_predict as predict\n",
    "# from FLAME import uvvisml_predict as predict\n",
    "# from FLAME import abtmpnn_predict as predict\n",
    "# from FLAME import fcnn_predict as predict\n",
    "# from FLAME import gbrt_predict as predict\n",
    "# from FLAME import schnet_predict as predict\n",
    "\n",
    "save = False\n",
    "\n",
    "target = 'abs'\n",
    "model_path = f'model/flsfluoDB_{target}'\n",
    "input_file = f'data/FluoDB/{target}_test.csv'\n",
    "output_file = 'pred/test.csv'\n",
    "\n",
    "df = pd.read_csv(input_file)\n",
    "df['pred'] = predict(model_path, output_file,smiles=df[['smiles','solvent']].values.tolist())"
   ]
  },
  {
   "cell_type": "markdown",
   "id": "db00f13a",
   "metadata": {
    "heading_collapsed": true
   },
   "source": [
    "# Evaluate"
   ]
  },
  {
   "cell_type": "code",
   "execution_count": null,
   "id": "e6257b9f",
   "metadata": {
    "ExecuteTime": {
     "end_time": "2024-10-11T06:03:45.600651Z",
     "start_time": "2024-10-11T06:03:45.103787Z"
    },
    "hidden": true
   },
   "outputs": [],
   "source": [
    "import numpy as np\n",
    "import pandas as pd\n",
    "from scipy import stats\n",
    "\n",
    "res = []\n",
    "idx = []\n",
    "\n",
    "solvent = -1\n",
    "# solvent = 4\n",
    "\n",
    "for target in ['abs', 'emi', 'plqy', 'e']:\n",
    "    for m in ['GBRT', 'FCNN', 'uvvisml', 'schnet', 'abtmpnn' , 'flsf_maccs', 'flsf_morgan', 'flsf:\n",
    "        idx.append((target, m))\n",
    "        base = pd.read_csv(f'data/FluoDB/{target}_test.csv').iloc[:,-1]\n",
    "        pred_df = pd.read_csv(f'pred/{m}/{m}_{target}.csv')\n",
    "        if 'pred' not in pred_df.columns:\n",
    "            pred_df['pred'] = pred_df[target]\n",
    "            pred_df[target] = base\n",
    "        if target == 'e':\n",
    "            pred_df['pred'] = np.log10(pred_df['pred'])\n",
    "            pred_df[target] = np.log10(pred_df[target])\n",
    "\n",
    "        pred_df = pred_df.dropna()\n",
    "        \n",
    "        if solvent == 1: #single solvent\n",
    "            pred_df = pred_df[pred_df['solvent']=='ClCCl'] \n",
    "        elif solvent > 1:\n",
    "            for smi, sdf in pred_df.groupby('smiles'):\n",
    "                pred_df.loc[sdf.index, 'snum'] = len(sdf)\n",
    "            pred_df = pred_df[pred_df['snum'] >solvent]\n",
    "            \n",
    "        pred_df['err'] = abs(pred_df['pred'] - pred_df[target])\n",
    "        mae = pred_df['err'].mean()\n",
    "        mse = ((pred_df['err']) ** 2).mean()\n",
    "        rmse =  mse ** .5\n",
    "        slope, intercept, r_value, p_value, std_err = stats.linregress(pred_df['pred'], pred_df[target])\n",
    "        r2 = r_value**2\n",
    "#         r2 = 1-((pred_df['err']) ** 2).sum()/((pred_df[target]-pred_df[target].mean())**2).sum()\n",
    "        res.append([round(mae,3), round(mse,3), round(rmse,3), round(r2,3), len(pred_df),len(pred_df['smiles'].unique())])\n",
    "res = np.array(res)"
   ]
  },
  {
   "cell_type": "code",
   "execution_count": null,
   "id": "915680a4",
   "metadata": {
    "ExecuteTime": {
     "end_time": "2024-10-11T06:03:58.734655Z",
     "start_time": "2024-10-11T06:03:58.687214Z"
    },
    "hidden": true,
    "scrolled": true
   },
   "outputs": [],
   "source": [
    "pd.DataFrame(res,index = pd.MultiIndex.from_tuples(idx),\n",
    "               columns =['MAE', 'MSE', 'RMSE', 'R2', 'n_data','n_mol']\n",
    "         )"
   ]
  },
  {
   "cell_type": "code",
   "execution_count": null,
   "id": "50b43649",
   "metadata": {
    "ExecuteTime": {
     "end_time": "2024-10-11T04:28:18.579181Z",
     "start_time": "2024-10-11T04:28:18.523140Z"
    },
    "hidden": true,
    "scrolled": true
   },
   "outputs": [],
   "source": [
    "# pred_df = pred_df[pred_df[target] >3.5]\n",
    "# pred_df = pred_df[pred_df[target] <6]\n",
    "\n",
    "pd.DataFrame(res,index = pd.MultiIndex.from_tuples(idx),\n",
    "               columns =['MAE', 'MSE', 'RMSE', 'R2', 'n_data','n_mol']\n",
    "         )"
   ]
  }
 ],
 "metadata": {
  "kernelspec": {
   "display_name": "Python 3 (ipykernel)",
   "language": "python",
   "name": "python3"
  },
  "language_info": {
   "codemirror_mode": {
    "name": "ipython",
    "version": 3
   },
   "file_extension": ".py",
   "mimetype": "text/x-python",
   "name": "python",
   "nbconvert_exporter": "python",
   "pygments_lexer": "ipython3",
   "version": "3.7.9"
  },
  "toc": {
   "base_numbering": 1,
   "nav_menu": {},
   "number_sections": true,
   "sideBar": true,
   "skip_h1_title": false,
   "title_cell": "Table of Contents",
   "title_sidebar": "Contents",
   "toc_cell": false,
   "toc_position": {},
   "toc_section_display": true,
   "toc_window_display": false
  },
  "varInspector": {
   "cols": {
    "lenName": 16,
    "lenType": 16,
    "lenVar": 40
   },
   "kernels_config": {
    "python": {
     "delete_cmd_postfix": "",
     "delete_cmd_prefix": "del ",
     "library": "var_list.py",
     "varRefreshCmd": "print(var_dic_list())"
    },
    "r": {
     "delete_cmd_postfix": ") ",
     "delete_cmd_prefix": "rm(",
     "library": "var_list.r",
     "varRefreshCmd": "cat(var_dic_list()) "
    }
   },
   "types_to_exclude": [
    "module",
    "function",
    "builtin_function_or_method",
    "instance",
    "_Feature"
   ],
   "window_display": false
  }
 },
 "nbformat": 4,
 "nbformat_minor": 5
}
